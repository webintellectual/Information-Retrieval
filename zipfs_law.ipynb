{
 "cells": [
  {
   "cell_type": "code",
   "execution_count": 52,
   "metadata": {},
   "outputs": [],
   "source": [
    "import nltk  # natural language processing library\n",
    "import scipy.stats as ss  # statistical functions required to assign ranks\n",
    "import matplotlib.pyplot as plt # to plot graphs\n",
    "import math # for taking lagarithm in Zipf's eaquation"
   ]
  },
  {
   "cell_type": "code",
   "execution_count": 4,
   "metadata": {},
   "outputs": [
    {
     "name": "stderr",
     "output_type": "stream",
     "text": [
      "[nltk_data] Downloading package reuters to /Users/akshay./nltk_data...\n"
     ]
    },
    {
     "data": {
      "text/plain": [
       "True"
      ]
     },
     "execution_count": 4,
     "metadata": {},
     "output_type": "execute_result"
    }
   ],
   "source": [
    "nltk.download('reuters')"
   ]
  },
  {
   "cell_type": "code",
   "execution_count": 2,
   "metadata": {},
   "outputs": [],
   "source": [
    "from nltk.corpus import reuters\n",
    "# nltk library has some corpuses like reuters, brown, etc present in it."
   ]
  },
  {
   "cell_type": "code",
   "execution_count": 5,
   "metadata": {},
   "outputs": [],
   "source": [
    "reuters_words = [w.lower() for w in reuters.words()] # converting all words in lower case for simplicity\n",
    "words = set(reuters_words) # used to Set function to get rid of duplicate words\n",
    "counts = [(w, reuters_words.count(w)) for w in words] # creating a list of tuples, each tuple having a\n",
    "                                                      # word and its frequency in the corpus."
   ]
  },
  {
   "cell_type": "code",
   "execution_count": 6,
   "metadata": {},
   "outputs": [],
   "source": [
    "# Separating words and their counts from the tuples in the list counts\n",
    "words_1 = [w for (w,c) in counts]\n",
    "counts_1 = [c for (w,c) in counts]"
   ]
  },
  {
   "cell_type": "code",
   "execution_count": 7,
   "metadata": {},
   "outputs": [
    {
     "data": {
      "text/plain": [
       "array([24564. , 13183.5, 20936.5, ..., 20936.5, 13183.5, 16537.5])"
      ]
     },
     "execution_count": 7,
     "metadata": {},
     "output_type": "execute_result"
    }
   ],
   "source": [
    "count_rank = ss.rankdata([c for (w,c) in counts])\n",
    "# rankdata function assigns highest rank to highest value/frequency.\n",
    "# in case of same frequencies of different words rankdata uses average method by default\n",
    "# The average of the ranks that would have been assigned to all the tied values is assigned to each value.\n",
    "# https://docs.scipy.org/doc/scipy/reference/generated/scipy.stats.rankdata.html  (reference)\n",
    "count_rank"
   ]
  },
  {
   "cell_type": "code",
   "execution_count": 36,
   "metadata": {},
   "outputs": [
    {
     "data": {
      "text/plain": [
       "[('aghia', 1, 5513.0),\n",
       " ('attaka', 2, 13183.5),\n",
       " ('601', 17, 25351.0),\n",
       " ('tumaco', 5, 19949.0),\n",
       " ('promotional', 7, 21705.5)]"
      ]
     },
     "execution_count": 36,
     "metadata": {},
     "output_type": "execute_result"
    }
   ],
   "source": [
    "# combining each word, its count and its rank in a tuple\n",
    "counts_ranked = list(zip(words_1,counts_1,count_rank))\n",
    "#caution for applying list method on zip objects: https://tinyurl.com/yc3sets2\n",
    "counts_ranked[500:505]"
   ]
  },
  {
   "cell_type": "code",
   "execution_count": 47,
   "metadata": {},
   "outputs": [
    {
     "data": {
      "text/plain": [
       "('reinvested', 2, 13183.5)"
      ]
     },
     "execution_count": 47,
     "metadata": {},
     "output_type": "execute_result"
    }
   ],
   "source": [
    "counts_sorted = sorted(counts_ranked, key=lambda x:x[-1])\n",
    "# https://tinyurl.com/4bwkx6xd (reference)\n",
    "counts_sorted[13183]"
   ]
  },
  {
   "cell_type": "markdown",
   "metadata": {},
   "source": [
    "### Zipf's law\n",
    "$f = C*r^{-\\alpha} \\newline$\n",
    "$log(f) = logC -\\alpha*log(r) $ <br/>\n",
    "$y = k + mx$ (straight line)\n",
    "\n",
    "$y = logf$ which is equal to log of word counts in our tuple list\n",
    "$x = log(r)$ \n",
    "\n",
    "In zipfs law, frequency is inversely proportional to rank. So we have to reverse our ranks for zipf's law\n",
    "Which can be done by: L+1-r, where L is total unique words"
   ]
  },
  {
   "cell_type": "code",
   "execution_count": null,
   "metadata": {},
   "outputs": [],
   "source": [
    "L = len(counts_sorted)"
   ]
  },
  {
   "cell_type": "code",
   "execution_count": 56,
   "metadata": {},
   "outputs": [
    {
     "data": {
      "text/plain": [
       "Text(0, 0.5, 'log(f)')"
      ]
     },
     "execution_count": 56,
     "metadata": {},
     "output_type": "execute_result"
    },
    {
     "data": {
      "image/png": "[encoded data removed]",
      "text/plain": [
       "<Figure size 432x288 with 1 Axes>"
      ]
     },
     "metadata": {
      "needs_background": "light"
     },
     "output_type": "display_data"
    }
   ],
   "source": [
    "# plotting graph x vs y i.e. log(L+1-r) vs log(c)\n",
    "plt.plot([math.log(L-r+1) for (w,c,r) in counts_sorted], [math.log(c) for (w,c,r) in counts_sorted])\n",
    "plt.xlabel('log(r)')\n",
    "plt.ylabel('log(f)')"
   ]
  },
  {
   "cell_type": "markdown",
   "metadata": {},
   "source": [
    "We have many points(x,y) but they are not be collinear\n",
    "We use least square method to find a line (or particular values of m and k) which fits to all these points as close possible.\n",
    "(Similar to what we do in Linear Regression) <br/>\n",
    "\n",
    "$\\begin{bmatrix}\n",
    "x_1 & 1\\\\\n",
    "x_2 & 1\\\\\n",
    "x_3 & 1\n",
    "\\end{bmatrix}*\\begin{bmatrix}\n",
    "m\\\\\n",
    "k\n",
    "\\end{bmatrix} = \\begin{bmatrix}\n",
    "y_1\\\\\n",
    "y_2\\\\\n",
    "y_3\n",
    "\\end{bmatrix}$ <br/>\n",
    "\n",
    "$\\implies Ax = b \\newline A^TAx=A^Tb$\n",
    "\n",
    "Least square solution:\n",
    "$\\hat{x}=(A^TA)^{-1}A^Tb$"
   ]
  },
  {
   "cell_type": "code",
   "execution_count": 57,
   "metadata": {},
   "outputs": [],
   "source": [
    "import numpy as np"
   ]
  },
  {
   "cell_type": "code",
   "execution_count": 84,
   "metadata": {},
   "outputs": [
    {
     "data": {
      "text/plain": [
       "(31078,)"
      ]
     },
     "execution_count": 84,
     "metadata": {},
     "output_type": "execute_result"
    }
   ],
   "source": [
    "x = np.array([math.log(L-r+1) for (w,c,r) in counts_sorted])\n",
    "y = np.array([math.log(c) for (w,c,r) in counts_sorted])\n",
    "np.shape(x)"
   ]
  },
  {
   "cell_type": "markdown",
   "metadata": {},
   "source": [
    "<img src=\"stacks.png\" alt=\"stacks_illustration\" width=\"400\"/>"
   ]
  },
  {
   "cell_type": "code",
   "execution_count": 85,
   "metadata": {},
   "outputs": [
    {
     "data": {
      "text/plain": [
       "array([10.14901862, 10.14901862, 10.14901862, ...,  1.09861229,\n",
       "        0.69314718,  0.        ])"
      ]
     },
     "execution_count": 85,
     "metadata": {},
     "output_type": "execute_result"
    }
   ],
   "source": [
    "x"
   ]
  },
  {
   "cell_type": "code",
   "execution_count": 86,
   "metadata": {},
   "outputs": [
    {
     "data": {
      "text/plain": [
       "array([[10.14901862],\n",
       "       [10.14901862],\n",
       "       [10.14901862],\n",
       "       ...,\n",
       "       [ 1.09861229],\n",
       "       [ 0.69314718],\n",
       "       [ 0.        ]])"
      ]
     },
     "execution_count": 86,
     "metadata": {},
     "output_type": "execute_result"
    }
   ],
   "source": [
    "x = x.reshape(len(x),1)\n",
    "x"
   ]
  },
  {
   "cell_type": "code",
   "execution_count": 87,
   "metadata": {},
   "outputs": [
    {
     "data": {
      "text/plain": [
       "(31078, 2)"
      ]
     },
     "execution_count": 87,
     "metadata": {},
     "output_type": "execute_result"
    }
   ],
   "source": [
    "A = np.hstack( ( x, np.ones((len(x),1)) ) )\n",
    "np.shape(A)"
   ]
  },
  {
   "cell_type": "code",
   "execution_count": 90,
   "metadata": {},
   "outputs": [
    {
     "data": {
      "text/plain": [
       "(31078, 1)"
      ]
     },
     "execution_count": 90,
     "metadata": {},
     "output_type": "execute_result"
    }
   ],
   "source": [
    "b = y.reshape(len(y),1)\n",
    "np.shape(b)"
   ]
  },
  {
   "cell_type": "code",
   "execution_count": 93,
   "metadata": {},
   "outputs": [
    {
     "data": {
      "text/plain": [
       "(2, 1)"
      ]
     },
     "execution_count": 93,
     "metadata": {},
     "output_type": "execute_result"
    }
   ],
   "source": [
    "sol = np.dot(A.T,A) # (A^T A)\n",
    "sol = np.linalg.inv(sol) # (A^T A)^-1\n",
    "sol = np.dot( np.dot(sol,A.T), b)\n",
    "np.shape(sol)"
   ]
  },
  {
   "cell_type": "code",
   "execution_count": 94,
   "metadata": {},
   "outputs": [
    {
     "data": {
      "text/plain": [
       "array([[-1.59893073],\n",
       "       [16.37719998]])"
      ]
     },
     "execution_count": 94,
     "metadata": {},
     "output_type": "execute_result"
    }
   ],
   "source": [
    "sol"
   ]
  },
  {
   "cell_type": "code",
   "execution_count": 97,
   "metadata": {},
   "outputs": [
    {
     "data": {
      "text/plain": [
       "Text(0, 0.5, 'log(freq)')"
      ]
     },
     "execution_count": 97,
     "metadata": {},
     "output_type": "execute_result"
    },
    {
     "data": {
      "image/png": "[encoded data removed]",
      "text/plain": [
       "<Figure size 432x288 with 1 Axes>"
      ]
     },
     "metadata": {
      "needs_background": "light"
     },
     "output_type": "display_data"
    }
   ],
   "source": [
    "plt.plot(x,y)\n",
    "plt.plot(x, np.dot(A,sol), 'm')\n",
    "plt.xlabel('log(r)')\n",
    "plt.ylabel('log(freq)')"
   ]
  }
 ],
 "metadata": {
  "kernelspec": {
   "display_name": "Python 3.9.10 64-bit",
   "language": "python",
   "name": "python3"
  },
  "language_info": {
   "codemirror_mode": {
    "name": "ipython",
    "version": 3
   },
   "file_extension": ".py",
   "mimetype": "text/x-python",
   "name": "python",
   "nbconvert_exporter": "python",
   "pygments_lexer": "ipython3",
   "version": "3.9.10"
  },
  "orig_nbformat": 4,
  "vscode": {
   "interpreter": {
    "hash": "b0fa6594d8f4cbf19f97940f81e996739fb7646882a419484c72d19e05852a7e"
   }
  }
 },
 "nbformat": 4,
 "nbformat_minor": 2
}
